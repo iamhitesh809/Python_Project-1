{
 "cells": [
  {
   "cell_type": "markdown",
   "metadata": {},
   "source": [
    "# Day 1 Project\n",
    "## Band Name Generator"
   ]
  },
  {
   "cell_type": "code",
   "execution_count": 4,
   "metadata": {},
   "outputs": [
    {
     "name": "stdout",
     "output_type": "stream",
     "text": [
      "Welcome to the band name generator.\n",
      "what is your city name?\n",
      "Ajmer\n",
      "what is your pet name?\n",
      "Browny\n",
      "so the band name is\n",
      "Ajmer Browny\n"
     ]
    }
   ],
   "source": [
    "#Create a greeting for your program.\n",
    "print(\"Welcome to the band name generator.\")\n",
    "#Ask the user for the city that they grew up in.\n",
    "city_name =input('what is your city name?\\n')\n",
    "#Ask the user for the name of a pet.\n",
    "pet_name = input('what is your pet name?\\n')\n",
    "#Combine the name of their city and pet and show them their band name.\n",
    "print('so the band name is\\n' +city_name+\" \"+pet_name)"
   ]
  }
 ],
 "metadata": {
  "kernelspec": {
   "display_name": "Python 3",
   "language": "python",
   "name": "python3"
  },
  "language_info": {
   "codemirror_mode": {
    "name": "ipython",
    "version": 3
   },
   "file_extension": ".py",
   "mimetype": "text/x-python",
   "name": "python",
   "nbconvert_exporter": "python",
   "pygments_lexer": "ipython3",
   "version": "3.8.5"
  }
 },
 "nbformat": 4,
 "nbformat_minor": 4
}
